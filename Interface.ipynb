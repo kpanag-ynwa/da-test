{
 "cells": [
  {
   "cell_type": "code",
   "execution_count": 1,
   "metadata": {},
   "outputs": [],
   "source": [
    "import pandas as pd\n",
    "import numpy as np\n",
    "import uuid\n",
    "\n",
    "from Package.insured import Insured\n",
    "from Package.claim import Claim\n",
    "from Package.data import Data_storage,obj_to_df\n"
   ]
  },
  {
   "cell_type": "markdown",
   "metadata": {},
   "source": [
    "# Design a schema \n",
    "\n",
    "- Has a unique id per policy holder\n",
    "- Contains the properties\n",
    "    - Gender, date of birth, Social Security Number, smoking status, allergies,medical conditions\n",
    "- Contains insured events associated to unique policy holders\n",
    "    - Health history details will have a date of incidence, type of issue, billed amount, covered amount"
   ]
  },
  {
   "cell_type": "code",
   "execution_count": 2,
   "metadata": {},
   "outputs": [],
   "source": [
    "schema = pd.DataFrame(columns=['claim_number','name','ID','gender','date_of_birth','SSN','smoking_status',\\\n",
    "                               'allergies','medical_conditions','loss_date', 'issue_type', 'billed_amount'])"
   ]
  },
  {
   "cell_type": "code",
   "execution_count": 3,
   "metadata": {},
   "outputs": [],
   "source": [
    "data_storage = Data_storage()"
   ]
  },
  {
   "cell_type": "markdown",
   "metadata": {},
   "source": [
    "# Interface"
   ]
  },
  {
   "cell_type": "markdown",
   "metadata": {},
   "source": [
    "### Implement a simple user interface to call the methods in #3 and display the results"
   ]
  },
  {
   "cell_type": "markdown",
   "metadata": {},
   "source": [
    "#### Adds an insured individual and returns the unique identifier of that individual"
   ]
  },
  {
   "cell_type": "code",
   "execution_count": 4,
   "metadata": {},
   "outputs": [
    {
     "name": "stdin",
     "output_type": "stream",
     "text": [
      "What's the name of the insured?  Kostas\n",
      "What's the gender of the insured?  \n",
      "What's the date of birth of the insured?  \n",
      "What's the age of the insured?  25\n",
      "What's the SSN of the insured?  \n"
     ]
    },
    {
     "name": "stdout",
     "output_type": "stream",
     "text": [
      "Kostas-b96c1106\n"
     ]
    }
   ],
   "source": [
    "# Initialize the object\n",
    "insured = Insured()\n",
    "\n",
    "#take in the input and store it in the object\n",
    "insured.input_to_attributes_insured()\n",
    "\n",
    "#Create a unique ID \n",
    "print(insured.name_to_ID(insured.name))\n",
    "\n",
    "# store the object in the data storage class \n",
    "data_storage.insured_list.append(insured)"
   ]
  },
  {
   "cell_type": "markdown",
   "metadata": {},
   "source": [
    "#### Adds an insurance event for a specific user identified by unique identifier"
   ]
  },
  {
   "cell_type": "code",
   "execution_count": 5,
   "metadata": {},
   "outputs": [
    {
     "name": "stdin",
     "output_type": "stream",
     "text": [
      "what's the user ID?  Kostas-b96c1106\n",
      "what's the smoking status of the user?  \n",
      "what are the allergies of the user?  \n",
      "what are the medical conditions of the user?  \n",
      "what's the loss date of the claim?  \n",
      "what's the billed amount of the claim?  100\n",
      "what's the covered amount of the claim?  100\n"
     ]
    },
    {
     "name": "stdout",
     "output_type": "stream",
     "text": [
      "claim-bea8fd1c\n"
     ]
    }
   ],
   "source": [
    "# Initialize the object\n",
    "claim = Claim()\n",
    "\n",
    "#take in the input and store it in the object\n",
    "claim.input_to_attributes_claim()\n",
    "\n",
    "print(claim.claim_number)\n",
    "\n",
    "# store the object in the data storage class \n",
    "data_storage.claim_list.append(claim)"
   ]
  },
  {
   "cell_type": "markdown",
   "metadata": {},
   "source": [
    "#### List all insured individuals"
   ]
  },
  {
   "cell_type": "code",
   "execution_count": 6,
   "metadata": {},
   "outputs": [
    {
     "data": {
      "text/plain": [
       "['Kostas-b96c1106']"
      ]
     },
     "execution_count": 6,
     "metadata": {},
     "output_type": "execute_result"
    }
   ],
   "source": [
    "data = data_storage\n",
    "\n",
    "data.display_IDs()"
   ]
  },
  {
   "cell_type": "markdown",
   "metadata": {},
   "source": [
    "#### (Extra Part) - Calculate comprehensive data"
   ]
  },
  {
   "cell_type": "code",
   "execution_count": 7,
   "metadata": {},
   "outputs": [
    {
     "data": {
      "text/plain": [
       "100"
      ]
     },
     "execution_count": 7,
     "metadata": {},
     "output_type": "execute_result"
    }
   ],
   "source": [
    "data.tot_covered()"
   ]
  },
  {
   "cell_type": "code",
   "execution_count": 8,
   "metadata": {},
   "outputs": [
    {
     "data": {
      "text/plain": [
       "1"
      ]
     },
     "execution_count": 8,
     "metadata": {},
     "output_type": "execute_result"
    }
   ],
   "source": [
    "data.tot_claims()"
   ]
  },
  {
   "cell_type": "code",
   "execution_count": 9,
   "metadata": {},
   "outputs": [
    {
     "data": {
      "text/plain": [
       "25.0"
      ]
     },
     "execution_count": 9,
     "metadata": {},
     "output_type": "execute_result"
    }
   ],
   "source": [
    "data.claim_avg_age()"
   ]
  },
  {
   "cell_type": "markdown",
   "metadata": {},
   "source": [
    "#### List all events associated with a specific user by unique identifier"
   ]
  },
  {
   "cell_type": "code",
   "execution_count": 10,
   "metadata": {},
   "outputs": [
    {
     "name": "stdin",
     "output_type": "stream",
     "text": [
      "what's the user ID?  Kostas-b96c1106\n"
     ]
    },
    {
     "data": {
      "text/plain": [
       "[{'ID': 'Kostas-b96c1106',\n",
       "  'smoking_status': '',\n",
       "  'allergies': '',\n",
       "  'medical_conditions': '',\n",
       "  'loss_date': '',\n",
       "  'issue_type': None,\n",
       "  'billed_amount': '100',\n",
       "  'covered_amount': '100',\n",
       "  'claim_number': 'claim-bea8fd1c'}]"
      ]
     },
     "execution_count": 10,
     "metadata": {},
     "output_type": "execute_result"
    }
   ],
   "source": [
    "events = data.all_events()\n",
    "\n",
    "events"
   ]
  },
  {
   "cell_type": "markdown",
   "metadata": {},
   "source": [
    "#### Combine Insured Data With Claim Data"
   ]
  },
  {
   "cell_type": "code",
   "execution_count": 11,
   "metadata": {},
   "outputs": [
    {
     "data": {
      "text/plain": [
       "[{'ID': 'Kostas-b96c1106',\n",
       "  'name': 'Kostas',\n",
       "  'gender': '',\n",
       "  'date_of_birth': '',\n",
       "  'age': '25',\n",
       "  'SSN': '',\n",
       "  'smoking_status': '',\n",
       "  'allergies': '',\n",
       "  'medical_conditions': '',\n",
       "  'loss_date': '',\n",
       "  'issue_type': None,\n",
       "  'billed_amount': '100',\n",
       "  'covered_amount': '100',\n",
       "  'claim_number': 'claim-bea8fd1c'}]"
      ]
     },
     "execution_count": 11,
     "metadata": {},
     "output_type": "execute_result"
    }
   ],
   "source": [
    "combined_data = data.combine()\n",
    "combined_data"
   ]
  },
  {
   "cell_type": "markdown",
   "metadata": {},
   "source": [
    "#### Save data in the schema"
   ]
  },
  {
   "cell_type": "code",
   "execution_count": null,
   "metadata": {},
   "outputs": [],
   "source": [
    "temp = obj_to_df(schema,combined_data)"
   ]
  },
  {
   "cell_type": "markdown",
   "metadata": {},
   "source": [
    "Great the insured's biodata and claim data have been stored:"
   ]
  },
  {
   "cell_type": "code",
   "execution_count": null,
   "metadata": {},
   "outputs": [],
   "source": [
    "temp"
   ]
  },
  {
   "cell_type": "markdown",
   "metadata": {},
   "source": [
    "#### What considerations should you take into account when using or storing information such as Social Security Numbers?"
   ]
  },
  {
   "cell_type": "markdown",
   "metadata": {},
   "source": [
    "The information should be encrypted for only the user to see, it should be saved not in a global variable.\n",
    "By making the SSN attribute of the object locally saved, you can protect the privacy of the data and make some logic to display the SSN only for the user's to see.\n",
    "For example a function could me made where the user inputs the password that would allow the retrieval of the SSN only if it matches with the password stored in the database."
   ]
  },
  {
   "cell_type": "code",
   "execution_count": null,
   "metadata": {},
   "outputs": [],
   "source": []
  }
 ],
 "metadata": {
  "kernelspec": {
   "display_name": "Python 3",
   "language": "python",
   "name": "python3"
  },
  "language_info": {
   "codemirror_mode": {
    "name": "ipython",
    "version": 3
   },
   "file_extension": ".py",
   "mimetype": "text/x-python",
   "name": "python",
   "nbconvert_exporter": "python",
   "pygments_lexer": "ipython3",
   "version": "3.6.8"
  }
 },
 "nbformat": 4,
 "nbformat_minor": 4
}
